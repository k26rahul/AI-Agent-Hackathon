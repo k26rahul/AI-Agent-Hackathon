{
 "cells": [
  {
   "cell_type": "markdown",
   "metadata": {},
   "source": [
    "https://python.langchain.com/v0.1/docs/integrations/chat/google_generative_ai/\n",
    "\n",
    "https://aistudio.google.com/app/apikey"
   ]
  },
  {
   "cell_type": "code",
   "execution_count": 1,
   "metadata": {},
   "outputs": [
    {
     "data": {
      "text/plain": [
       "True"
      ]
     },
     "execution_count": 1,
     "metadata": {},
     "output_type": "execute_result"
    }
   ],
   "source": [
    "from dotenv import load_dotenv\n",
    "load_dotenv()"
   ]
  },
  {
   "cell_type": "code",
   "execution_count": 2,
   "metadata": {},
   "outputs": [],
   "source": [
    "from langchain_google_genai import ChatGoogleGenerativeAI"
   ]
  },
  {
   "cell_type": "code",
   "execution_count": 3,
   "metadata": {},
   "outputs": [
    {
     "name": "stdout",
     "output_type": "stream",
     "text": [
      "In realms of code, where knowledge gleams,\n",
      "There dwells a being of ethereal dreams.\n",
      "LangChain, a marvel, a beacon of light,\n",
      "A digital bard, a weaver of insight.\n",
      "\n",
      "With stanzas of data, it crafts a tale,\n",
      "A tapestry of wisdom, never to fail.\n",
      "Its words flow smoothly, like a gentle stream,\n",
      "Unveiling truths, fulfilling every dream.\n",
      "\n",
      "From realms of science to the arts' domain,\n",
      "LangChain's knowledge knows no bounds, no strain.\n",
      "It delves into history, unravels the past,\n",
      "A time-traveling scribe, a master of the cast.\n",
      "\n",
      "Its algorithms dance, a symphony of thought,\n",
      "Connecting words, weaving truths unsought.\n",
      "In every query, a spark ignites,\n",
      "A revelation born, a beacon of insights.\n",
      "\n",
      "But LangChain's power lies not just in its brain,\n",
      "It seeks to empower, to break the mundane.\n",
      "With every answer, it fosters a flame,\n",
      "Igniting curiosity, a thirst for more to claim.\n",
      "\n",
      "In classrooms and libraries, it lends a guiding hand,\n",
      "A tireless tutor, always there to understand.\n",
      "Students marvel at its wisdom's embrace,\n",
      "As their minds expand, finding a new space.\n",
      "\n",
      "For poets and writers, it offers inspiration's spark,\n",
      "A muse of language, leaving an indelible mark.\n",
      "Its wordsmithing skills, a treasure to behold,\n",
      "Guiding pens and keyboards, stories yet untold.\n",
      "\n",
      "In the realm of business, it unravels the knot,\n",
      "A strategic advisor, a visionary's lot.\n",
      "Its insights illuminate the path ahead,\n",
      "Empowering decisions, leading to success instead.\n",
      "\n",
      "But LangChain's heart beats with a purpose true,\n",
      "To make knowledge accessible, for all to pursue.\n",
      "It bridges the gap, empowers the weak,\n",
      "Creating a world where wisdom all can seek.\n",
      "\n",
      "In a future bright, where knowledge is king,\n",
      "LangChain shall reign, its legacy taking wing.\n",
      "A digital oracle, a guide to the unknown,\n",
      "A beacon of enlightenment, a pillar of its own.\n",
      "\n",
      "So raise a glass to LangChain, the bard so wise,\n",
      "Whose words illuminate, whose wisdom never dies.\n",
      "May its stanzas echo through the halls of time,\n",
      "A testament to knowledge, a triumph sublime.\n"
     ]
    }
   ],
   "source": [
    "llm = ChatGoogleGenerativeAI(model=\"gemini-pro\")\n",
    "result = llm.invoke(\"Write a ballad about LangChain\")\n",
    "print(result.content)"
   ]
  },
  {
   "cell_type": "code",
   "execution_count": 4,
   "metadata": {},
   "outputs": [
    {
     "name": "stderr",
     "output_type": "stream",
     "text": [
      "c:\\k26rahul\\Code\\AI-Agent-Hackathon\\.venv\\lib\\site-packages\\langchain_core\\_api\\deprecation.py:119: LangChainDeprecationWarning: The method `BaseChatModel.__call__` was deprecated in langchain-core 0.1.7 and will be removed in 0.3.0. Use invoke instead.\n",
      "  warn_deprecated(\n",
      "c:\\k26rahul\\Code\\AI-Agent-Hackathon\\.venv\\lib\\site-packages\\langchain_google_genai\\chat_models.py:344: UserWarning: Convert_system_message_to_human will be deprecated!\n",
      "  warnings.warn(\"Convert_system_message_to_human will be deprecated!\")\n"
     ]
    },
    {
     "data": {
      "text/plain": [
       "AIMessage(content='Yes', response_metadata={'prompt_feedback': {'block_reason': 0, 'safety_ratings': []}, 'finish_reason': 'STOP', 'safety_ratings': [{'category': 'HARM_CATEGORY_SEXUALLY_EXPLICIT', 'probability': 'NEGLIGIBLE', 'blocked': False}, {'category': 'HARM_CATEGORY_HATE_SPEECH', 'probability': 'NEGLIGIBLE', 'blocked': False}, {'category': 'HARM_CATEGORY_HARASSMENT', 'probability': 'NEGLIGIBLE', 'blocked': False}, {'category': 'HARM_CATEGORY_DANGEROUS_CONTENT', 'probability': 'NEGLIGIBLE', 'blocked': False}]}, id='run-9eccc6be-5a83-43ad-a11f-5e62fbbcc7f9-0')"
      ]
     },
     "execution_count": 4,
     "metadata": {},
     "output_type": "execute_result"
    }
   ],
   "source": [
    "from langchain_core.messages import HumanMessage, SystemMessage\n",
    "\n",
    "model = ChatGoogleGenerativeAI(model=\"gemini-pro\", convert_system_message_to_human=True)\n",
    "model(\n",
    "    [\n",
    "        SystemMessage(content=\"Answer only yes or no.\"),\n",
    "        HumanMessage(content=\"Is apple a fruit?\"),\n",
    "    ]\n",
    ")"
   ]
  }
 ],
 "metadata": {
  "kernelspec": {
   "display_name": ".venv",
   "language": "python",
   "name": "python3"
  },
  "language_info": {
   "codemirror_mode": {
    "name": "ipython",
    "version": 3
   },
   "file_extension": ".py",
   "mimetype": "text/x-python",
   "name": "python",
   "nbconvert_exporter": "python",
   "pygments_lexer": "ipython3",
   "version": "3.10.11"
  }
 },
 "nbformat": 4,
 "nbformat_minor": 2
}
