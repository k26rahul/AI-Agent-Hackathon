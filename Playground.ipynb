{
 "cells": [
  {
   "cell_type": "code",
   "execution_count": 1,
   "metadata": {},
   "outputs": [
    {
     "name": "stdout",
     "output_type": "stream",
     "text": [
      "my name is rahul, i am 21 year old, my weight is 65\n",
      "my name is rahul, i am 21 year old, my weight is 65\n"
     ]
    }
   ],
   "source": [
    "name = 'rahul'\n",
    "age = '21'\n",
    "weight = '65'\n",
    "\n",
    "print('my name is ' + name + ', i am ' + age + ' year old' + ', my weight is ' + weight)\n",
    "print(f'my name is {name}, i am {age} year old, my weight is {weight}')"
   ]
  },
  {
   "cell_type": "code",
   "execution_count": 2,
   "metadata": {},
   "outputs": [
    {
     "name": "stdout",
     "output_type": "stream",
     "text": [
      "Error: 400\n",
      "{\"AliasError\":\"Alias already exists\",\"alias\":\"agents72\"}\n",
      "\n"
     ]
    }
   ],
   "source": [
    "import requests\n",
    "import json\n",
    "\n",
    "url = \"https://spoo.me\"\n",
    "\n",
    "# Replace these with your actual values\n",
    "payload = {\n",
    "    \"url\": \"https://agentverse.ai/agents\",\n",
    "    \"alias\": \"agents72\",  # you can choose any other alias\n",
    "    \"password\": \"SuperStrongPassword@18322\"\n",
    "}\n",
    "\n",
    "# Necessary to get a non-html response\n",
    "headers = {\n",
    "    \"Accept\": \"application/json\"\n",
    "}\n",
    "\n",
    "response = requests.post(url, data=payload, headers=headers)\n",
    "\n",
    "if response.status_code == 200:\n",
    "  # If the request was successful, print the shortened URL\n",
    "  shortened_url = response.json()\n",
    "  print(f'{shortened_url=}')\n",
    "else:\n",
    "  # If the request failed, print the error message\n",
    "  print(f\"Error: {response.status_code}\")\n",
    "  print(response.text)"
   ]
  }
 ],
 "metadata": {
  "kernelspec": {
   "display_name": ".venv",
   "language": "python",
   "name": "python3"
  },
  "language_info": {
   "codemirror_mode": {
    "name": "ipython",
    "version": 3
   },
   "file_extension": ".py",
   "mimetype": "text/x-python",
   "name": "python",
   "nbconvert_exporter": "python",
   "pygments_lexer": "ipython3",
   "version": "3.10.11"
  }
 },
 "nbformat": 4,
 "nbformat_minor": 2
}
