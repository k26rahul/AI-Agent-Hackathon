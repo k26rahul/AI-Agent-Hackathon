{
 "cells": [
  {
   "cell_type": "markdown",
   "metadata": {},
   "source": [
    "# Examples\n",
    "\n",
    "- https://github.com/fetchai/uAgents/tree/main/integrations\n",
    "- https://github.com/fetchai/uAgents/tree/main/python/examples\n",
    "\n",
    "# Demos\n",
    "\n",
    "- https://fetch.ai/docs/guides/agents/booking-demo\n",
    "- https://fetch.ai/docs/guides/agents/running-locally"
   ]
  },
  {
   "cell_type": "markdown",
   "metadata": {},
   "source": [
    "# APIs\n",
    "\n",
    "https://free-apis.github.io/#/\n",
    "\n",
    "https://publicapis.dev/"
   ]
  },
  {
   "cell_type": "markdown",
   "metadata": {},
   "source": [
    "# uagents-ai-engine\n",
    "\n",
    "https://pypi-browser.org/package/uagents-ai-engine\n",
    "\n",
    "https://inspector.pypi.io/project/uagents-ai-engine/"
   ]
  }
 ],
 "metadata": {
  "kernelspec": {
   "display_name": ".venv",
   "language": "python",
   "name": "python3"
  },
  "language_info": {
   "codemirror_mode": {
    "name": "ipython",
    "version": 3
   },
   "file_extension": ".py",
   "mimetype": "text/x-python",
   "name": "python",
   "nbconvert_exporter": "python",
   "pygments_lexer": "ipython3",
   "version": "3.10.11"
  }
 },
 "nbformat": 4,
 "nbformat_minor": 2
}
